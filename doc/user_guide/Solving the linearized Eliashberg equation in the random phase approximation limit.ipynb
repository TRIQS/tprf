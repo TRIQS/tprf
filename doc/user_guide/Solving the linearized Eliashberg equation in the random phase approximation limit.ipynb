{
 "cells": [
  {
   "cell_type": "code",
   "execution_count": 1,
   "metadata": {
    "nbsphinx": "hidden"
   },
   "outputs": [
    {
     "name": "stderr",
     "output_type": "stream",
     "text": [
      "Starting run with 1 MPI rank(s) at : 2021-01-21 16:24:22.474799\n"
     ]
    }
   ],
   "source": [
    "%matplotlib inline\n",
    "\n",
    "import warnings\n",
    "warnings.filterwarnings('ignore')\n",
    "\n",
    "from triqs.plot.mpl_interface import plt\n",
    "from triqs.gf import Idx\n",
    "from triqs_tprf.plotting_tools import bsplot\n",
    "\n",
    "def plot_delta(delta, lamb):\n",
    "    fig, axs = plt.subplots(figsize=(8, 5), ncols=2)\n",
    "\n",
    "    nw = delta.data.shape[0]\n",
    "    axs[0].plot(range(-nw//2, nw//2), delta[:, :].data[:,500, 0, 0].real *1e3)\n",
    "\n",
    "    axs[0].set_xlabel(r\"$i\\nu_n$\")\n",
    "    axs[0].set_ylabel(r\"$\\Delta$ (meV)\")\n",
    "\n",
    "\n",
    "    im = axs[1].imshow(delta[Idx(0), :].data.reshape(nk, nk).real, cmap=\"RdBu\")\n",
    "    axs[1].set_xticks([])\n",
    "    axs[1].set_yticks([])\n",
    "\n",
    "    axs[1].spines['top'].set_visible(True)\n",
    "    axs[1].spines['right'].set_visible(True)\n",
    "\n",
    "    axs[1].set_xlabel(\"$k_x$\")\n",
    "    axs[1].set_ylabel(\"$k_y$\")\n",
    "\n",
    "    axs[1].text(16, 16, \"$\\Gamma$\", size=20)\n",
    "    axs[1].text(32, 0, \"$M$\", size=20)\n",
    "    axs[1].text(32, 16, \"$X$\", size=20)\n",
    "    \n",
    "    fig.suptitle(r\"$\\lambda = %.3f$\" % lamb, fontsize=20)\n",
    "    \n",
    "\n",
    "def plot_chi(chi_m_wk, chi_d_wk):\n",
    "    path = [(r'$\\Gamma$', 2*np.pi*np.array([0.0, 0.0, 0.0])), \n",
    "            ('X', 2*np.pi*np.array([0.5, 0.0, 0.0])),\n",
    "            ('M', 2*np.pi*np.array([0.5, 0.5, 0.0])), \n",
    "            (r'$\\Gamma$', 2*np.pi*np.array([0.0, 0.0, 0.0])), \n",
    "           ]\n",
    "\n",
    "\n",
    "    ax_bs = plt.subplot(111)\n",
    "\n",
    "    ax_bs.bsplot(chi_m_wk[(Idx(0), slice(None))], path)\n",
    "    ax_bs.bsplot(chi_d_wk[(Idx(0), slice(None))], path)\n",
    "\n",
    "    ax_bs.set_ylabel(r'$\\chi(i\\nu_n=0, \\mathbf{k})$', rotation=0, ha='right')\n",
    "    ax_bs.text(0.62, 0.6, \"$\\chi^{m}$\", transform = ax_bs.transAxes, size=22, color='C0')\n",
    "    ax_bs.text(0.55, 0.18, \"$\\chi^{d}$\", transform = ax_bs.transAxes, size=22, color='C1')"
   ]
  },
  {
   "cell_type": "code",
   "execution_count": 2,
   "metadata": {
    "nbsphinx": "hidden"
   },
   "outputs": [],
   "source": [
    "plt.style.use('notebook.mplstyle')"
   ]
  },
  {
   "cell_type": "markdown",
   "metadata": {},
   "source": [
    "# Solving the linearized Eliashberg equation in the random phase approximation limit\n",
    "\n",
    "In this notebook we will walk you through the steps of solving the linearized Eliashberg equation in the random phase approximation (RPA) limit. Make sure, that you have read the [theory](https://triqs.github.io/tprf/latest/theory/eliashberg.html) before reading further.\n",
    "\n",
    "The steps are\n",
    " 1. Construct the density- and magnetic-susceptibilties in RPA\n",
    " 2. Construct the particle-particle vertex in RPA\n",
    " 3. Construct the symmetrizing functions\n",
    " 4. Solve the linearized Eliashberg equation\n",
    "\n"
   ]
  },
  {
   "cell_type": "markdown",
   "metadata": {},
   "source": [
    "## 1. Construct the density- and magnetic-susceptibilties in RPA\n",
    "\n",
    "First we need a model and in this example we use the 1-band square lattice."
   ]
  },
  {
   "cell_type": "code",
   "execution_count": 3,
   "metadata": {},
   "outputs": [],
   "source": [
    "from triqs_tprf.tight_binding import create_square_lattice\n",
    "\n",
    "square_lattice = create_square_lattice(norb=1, t=1.0)"
   ]
  },
  {
   "cell_type": "markdown",
   "metadata": {},
   "source": [
    "Next we need the non-interacting one-particle Green's function. For this we first create the dispersion relation on a mesh on the Brillouin zone."
   ]
  },
  {
   "cell_type": "code",
   "execution_count": 4,
   "metadata": {},
   "outputs": [],
   "source": [
    "nk = 32\n",
    "\n",
    "e_k = square_lattice.on_mesh_brillouin_zone((nk, nk, 1))"
   ]
  },
  {
   "cell_type": "markdown",
   "metadata": {},
   "source": [
    "And then we solve the lattice dyson equation `lattice_dyson_g0_wk` for a specific fermionic Matsubara frequency mesh `MeshImFreq` to obtain the non-interacting one-particle Green's function `g0_wk`."
   ]
  },
  {
   "cell_type": "code",
   "execution_count": 5,
   "metadata": {},
   "outputs": [],
   "source": [
    "from triqs.gf import MeshImFreq\n",
    "from triqs_tprf.lattice import lattice_dyson_g0_wk\n",
    "\n",
    "wmesh = MeshImFreq(beta=10, S='Fermion', n_max=100)\n",
    "g0_wk = lattice_dyson_g0_wk(mu=0, e_k=e_k, mesh=wmesh)"
   ]
  },
  {
   "cell_type": "markdown",
   "metadata": {},
   "source": [
    "Next we solve for the density- and magnetic-susceptibilties in RPA by first constructing the bare bubble $\\chi_0$ `imtime_bubble_chi0_wk`"
   ]
  },
  {
   "cell_type": "code",
   "execution_count": 6,
   "metadata": {},
   "outputs": [
    {
     "name": "stdout",
     "output_type": "stream",
     "text": [
      "\n",
      "╔╦╗╦═╗╦╔═╗ ╔═╗  ┌┬┐┌─┐┬─┐┌─┐\n",
      " ║ ╠╦╝║║═╬╗╚═╗   │ ├─┘├┬┘├┤ \n",
      " ╩ ╩╚═╩╚═╝╚╚═╝   ┴ ┴  ┴└─└  \n",
      "Two-Particle Response Function tool-box \n",
      "\n",
      "beta  = 10.0\n",
      "nk    = 1024\n",
      "nw    = 200\n",
      "norb  = 1\n",
      "\n",
      "Approx. Memory Utilization: 0.01 GB\n",
      "\n",
      "--> fourier_wk_to_wr\n",
      "--> fourier_wr_to_tr\n",
      "--> chi0_tr_from_grt_PH (bubble in tau & r)\n",
      "--> chi_wr_from_chi_tr\n",
      "--> chi_wk_from_chi_wr (r->k)\n"
     ]
    }
   ],
   "source": [
    "from triqs_tprf.lattice_utils import imtime_bubble_chi0_wk\n",
    "\n",
    "chi0_wk = imtime_bubble_chi0_wk(g0_wk, nw=100)"
   ]
  },
  {
   "cell_type": "markdown",
   "metadata": {},
   "source": [
    "and then solving the RPA equations `solve_rpa_PH` for a Hubbard $U$, a rank 4 numpy array."
   ]
  },
  {
   "cell_type": "code",
   "execution_count": 7,
   "metadata": {},
   "outputs": [],
   "source": [
    "import numpy as np\n",
    "from triqs_tprf.lattice import solve_rpa_PH\n",
    "\n",
    "U = 1.0 * np.ones(shape=(1, 1, 1, 1), dtype=complex)\n",
    "\n",
    "chi_d_wk = solve_rpa_PH(chi0_wk, -U) # Minus here for correct density RPA equation\n",
    "chi_m_wk = solve_rpa_PH(chi0_wk, U)"
   ]
  },
  {
   "cell_type": "markdown",
   "metadata": {},
   "source": [
    "Plotting this over a path through the high-symmetry points looks as follows."
   ]
  },
  {
   "cell_type": "code",
   "execution_count": 8,
   "metadata": {},
   "outputs": [
    {
     "data": {
      "image/png": "[encoded data removed]",
      "text/plain": [
       "<Figure size 432x360 with 1 Axes>"
      ]
     },
     "metadata": {
      "needs_background": "dark"
     },
     "output_type": "display_data"
    }
   ],
   "source": [
    "plot_chi(chi_m_wk, chi_d_wk)"
   ]
  },
  {
   "cell_type": "markdown",
   "metadata": {},
   "source": [
    "## 2. Construct the particle-particle vertex in RPA\n",
    "\n",
    "Now we have all the ingredients to build the particle-particle vertex in the RPA limit. In this example we limit us to the singlet particle-particle vertex for a symmetry constraint calculation of the Eliashberg equation.\n",
    "\n",
    "\\begin{align}\n",
    "\\Gamma^{\\mathrm{singlet}}(i\\omega_n, \\mathbf{q})\n",
    "=\n",
    "3\\Phi^{\\mathrm{m}}(i\\omega_n, \\mathbf{q}) - \n",
    "3\\Phi^{\\mathrm{d}}(i\\omega_n, \\mathbf{q})\n",
    "+\n",
    "\\frac{1}{2}\n",
    "U^{\\mathrm{d}}\n",
    "+\n",
    "\\frac{3}{2}\n",
    "U^{\\mathrm{m}}\n",
    "\\,\n",
    "\\end{align}\n",
    "\n",
    "where\n",
    "\n",
    "\\begin{align}\n",
    "\\Phi^{\\mathrm{d/m}}(i\\omega_n, \\mathbf{q})\n",
    "=\n",
    "U^{\\mathrm{d/m}}\n",
    "\\chi^{\\mathrm{d/m}}(i\\omega_n, \\mathbf{q})\n",
    "U^{\\mathrm{d/m}}\n",
    "\\,.\n",
    "\\end{align}\n",
    "\n",
    "\n",
    "\n",
    "For the 1-band case $U^{\\mathrm{d/m}}=U$ and we don't have to take correct orbital ording in the products into account, which simplifies everything. But for generality we will show the process which also works for multi-orbital systems, where we first construct the density/magentic reducible ladder vertex $\\Phi^{\\mathrm{d/m}}$ via `construct_phi_wk`."
   ]
  },
  {
   "cell_type": "code",
   "execution_count": 9,
   "metadata": {},
   "outputs": [],
   "source": [
    "from triqs_tprf.lattice import construct_phi_wk\n",
    "\n",
    "phi_d_wk = construct_phi_wk(chi_d_wk, U)\n",
    "phi_m_wk = construct_phi_wk(chi_m_wk, U)"
   ]
  },
  {
   "cell_type": "markdown",
   "metadata": {},
   "source": [
    "And then construct the singlet particle-particle vertex via `construct_gamma_singlet_rpa`."
   ]
  },
  {
   "cell_type": "code",
   "execution_count": 10,
   "metadata": {},
   "outputs": [],
   "source": [
    "from triqs_tprf.eliashberg import construct_gamma_singlet_rpa\n",
    "\n",
    "gamma_singlet = construct_gamma_singlet_rpa(U, U, phi_d_wk, phi_m_wk)"
   ]
  },
  {
   "cell_type": "markdown",
   "metadata": {},
   "source": [
    "## 3. Construct the symmetrizing functions"
   ]
  },
  {
   "cell_type": "markdown",
   "metadata": {},
   "source": [
    "By using the above $\\Gamma$ we must enforce the allowed $SPOT$ symmetries of the superconducting gap $\\Delta$.\n",
    "Our 1-band model is by default even in orbital symmetry and by using the singlet $\\Gamma$ we are fixing the spin symmetry to odd. We are therefore left with two physical symmetry combinations.\n",
    "\n",
    "| Spin | Parity (Momentum) | Orbital | Time (Frequency) |\n",
    "|:----:|:-----------------:|:-------:|:----------------:|\n",
    "|  odd |        even       |   even  |       even       |\n",
    "|  odd |        odd        |   even  |        odd       |\n",
    "\n",
    "We will solve for them individually, by constructing a symmetrizing function for each of them.\n",
    "We do this by taking `enforce_symmetry` and using `functools.partial` to specifiy the symmetries that we want."
   ]
  },
  {
   "cell_type": "markdown",
   "metadata": {},
   "source": [
    "### Frequency: Even, Momentum: Even"
   ]
  },
  {
   "cell_type": "code",
   "execution_count": 11,
   "metadata": {},
   "outputs": [],
   "source": [
    "import functools\n",
    "from triqs_tprf.symmetries import enforce_symmetry\n",
    "\n",
    "variables = [\"frequency\", \"momentum\"]\n",
    "symmetries = [\"even\", \"even\"]\n",
    "\n",
    "symmetrize_freq_even_mom_even = functools.partial(enforce_symmetry, variables=variables, symmetries=symmetries)"
   ]
  },
  {
   "cell_type": "markdown",
   "metadata": {},
   "source": [
    "### Frequency: Odd, Momentum: Odd"
   ]
  },
  {
   "cell_type": "code",
   "execution_count": 12,
   "metadata": {},
   "outputs": [],
   "source": [
    "symmetries = [\"odd\", \"odd\"]\n",
    "\n",
    "symmetrize_freq_odd_mom_odd = functools.partial(enforce_symmetry, variables=variables, symmetries=symmetries)"
   ]
  },
  {
   "cell_type": "markdown",
   "metadata": {},
   "source": [
    "## 4. Solve the linearized Eliashberg equation"
   ]
  },
  {
   "cell_type": "markdown",
   "metadata": {},
   "source": [
    "Now we have everything that we need to solve the linearized Eliashberg equation. \n",
    "We call the `solve_eliashberg` function with each of our `symmetrize_fct`s and solve for the first leading eigenvalue, gap pair (`k=1`)."
   ]
  },
  {
   "cell_type": "code",
   "execution_count": 13,
   "metadata": {},
   "outputs": [],
   "source": [
    "from triqs_tprf.eliashberg import solve_eliashberg\n",
    "\n",
    "lambdas_freq_even_mom_even, deltas_freq_even_mom_even = solve_eliashberg(gamma_singlet, g0_wk, symmetrize_fct=symmetrize_freq_even_mom_even, k=1)\n",
    "lambdas_freq_odd_mom_odd, deltas_freq_odd_mom_odd = solve_eliashberg(gamma_singlet, g0_wk, symmetrize_fct=symmetrize_freq_odd_mom_odd, k=1)"
   ]
  },
  {
   "cell_type": "markdown",
   "metadata": {},
   "source": [
    "Plotting them shows that all symmetries are correct and that the gap with even frequency and odd momentum has the higher $\\lambda$ and is therefore leading."
   ]
  },
  {
   "cell_type": "code",
   "execution_count": 14,
   "metadata": {},
   "outputs": [
    {
     "data": {
      "image/png": "[encoded data removed]",
      "text/plain": [
       "<Figure size 576x360 with 2 Axes>"
      ]
     },
     "metadata": {
      "needs_background": "dark"
     },
     "output_type": "display_data"
    }
   ],
   "source": [
    "plot_delta(deltas_freq_even_mom_even[0], lambdas_freq_even_mom_even[0])"
   ]
  },
  {
   "cell_type": "code",
   "execution_count": 15,
   "metadata": {},
   "outputs": [
    {
     "data": {
      "image/png": "[encoded data removed]",
      "text/plain": [
       "<Figure size 576x360 with 2 Axes>"
      ]
     },
     "metadata": {
      "needs_background": "dark"
     },
     "output_type": "display_data"
    }
   ],
   "source": [
    "plot_delta(deltas_freq_odd_mom_odd[0], lambdas_freq_odd_mom_odd[0])"
   ]
  },
  {
   "cell_type": "markdown",
   "metadata": {},
   "source": [
    "---"
   ]
  }
 ],
 "metadata": {
  "celltoolbar": "Edit Metadata",
  "kernelspec": {
   "display_name": "Python 3",
   "language": "python",
   "name": "python3"
  },
  "language_info": {
   "codemirror_mode": {
    "name": "ipython",
    "version": 3
   },
   "file_extension": ".py",
   "mimetype": "text/x-python",
   "name": "python",
   "nbconvert_exporter": "python",
   "pygments_lexer": "ipython3",
   "version": "3.8.5"
  }
 },
 "nbformat": 4,
 "nbformat_minor": 4
}
